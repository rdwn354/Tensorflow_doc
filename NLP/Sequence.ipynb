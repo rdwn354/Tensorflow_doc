{
  "nbformat": 4,
  "nbformat_minor": 0,
  "metadata": {
    "colab": {
      "provenance": [],
      "authorship_tag": "ABX9TyMMTeqD2JP+q86nbutyVngs",
      "include_colab_link": true
    },
    "kernelspec": {
      "name": "python3",
      "display_name": "Python 3"
    },
    "language_info": {
      "name": "python"
    }
  },
  "cells": [
    {
      "cell_type": "markdown",
      "metadata": {
        "id": "view-in-github",
        "colab_type": "text"
      },
      "source": [
        "<a href=\"https://colab.research.google.com/github/rdwn354/Tensorflow_doc/blob/main/NLP/Sequence.ipynb\" target=\"_parent\"><img src=\"https://colab.research.google.com/assets/colab-badge.svg\" alt=\"Open In Colab\"/></a>"
      ]
    },
    {
      "cell_type": "code",
      "execution_count": 4,
      "metadata": {
        "colab": {
          "base_uri": "https://localhost:8080/"
        },
        "id": "_PbTpM1nUju1",
        "outputId": "f4c27b7f-2f6e-48e3-ff3a-02b82eff14f3"
      },
      "outputs": [
        {
          "output_type": "stream",
          "name": "stdout",
          "text": [
            "\n",
            "Word Index =  {'<OOV>': 1, 'my': 2, 'dogs': 3, 'i': 4, 'lova': 5, 'you': 6, 'love': 7, 'cats': 8, 'do': 9, 'think': 10, 'is': 11, 'amazing': 12}\n",
            "\n",
            "Sequences =  [[4, 7, 2, 3], [4, 5, 2, 8], [6, 5, 2, 3], [9, 6, 10, 2, 3, 11, 12]]\n"
          ]
        }
      ],
      "source": [
        "from tensorflow.keras.preprocessing.text import Tokenizer\n",
        "from tensorflow.keras.preprocessing.sequence import pad_sequences\n",
        "\n",
        "# Define your input texts\n",
        "sentences = [\n",
        "    'i love my dogs',\n",
        "    'I lova my cats',\n",
        "    'you lova my dogs!',\n",
        "    'do you think my dogs is amazing?'\n",
        "]\n",
        "\n",
        "# Initialize the Tokenizer class\n",
        "tokenizer = Tokenizer(num_words = 100, oov_token=\"<OOV>\")\n",
        "\n",
        "# Tokenize the input sentences\n",
        "tokenizer.fit_on_texts(sentences)\n",
        "\n",
        "# Get the word index dictionary\n",
        "word_index = tokenizer.word_index\n",
        "\n",
        "# Generate list of token sequences\n",
        "sequence = tokenizer.texts_to_sequences(sentences)\n",
        "\n",
        "# Print the result\n",
        "print(\"\\nWord Index = \" , word_index)\n",
        "print(\"\\nSequences = \" , sequence)"
      ]
    },
    {
      "cell_type": "markdown",
      "source": [
        "#padding"
      ],
      "metadata": {
        "id": "d7o9UbqDYmI_"
      }
    },
    {
      "cell_type": "code",
      "source": [
        "padded = pad_sequences(sequence, maxlen = 5)\n",
        "\n",
        "# Print the result\n",
        "print(\"\\nPadded Sequences:\")\n",
        "print(padded)"
      ],
      "metadata": {
        "colab": {
          "base_uri": "https://localhost:8080/"
        },
        "id": "HDvnYK47ZKs1",
        "outputId": "4bba9c89-5eee-4db4-d81c-b640a7ee4843"
      },
      "execution_count": 5,
      "outputs": [
        {
          "output_type": "stream",
          "name": "stdout",
          "text": [
            "\n",
            "Padded Sequences:\n",
            "[[ 0  4  7  2  3]\n",
            " [ 0  4  5  2  8]\n",
            " [ 0  6  5  2  3]\n",
            " [10  2  3 11 12]]\n"
          ]
        }
      ]
    },
    {
      "cell_type": "markdown",
      "source": [
        "#Out-of-vocabulary tokens\n"
      ],
      "metadata": {
        "id": "AX76FsgeZYMQ"
      }
    },
    {
      "cell_type": "code",
      "source": [
        "# Try with words that the tokenizer wasn't fit to\n",
        "test_data = [\n",
        "    'i really love my dog',\n",
        "    'my dog loves my manatee'\n",
        "]\n",
        "\n",
        "# Generate the sequences\n",
        "test_seq = tokenizer.texts_to_sequences(test_data)\n",
        "\n",
        "# Print the word index dictionary\n",
        "print(\"\\nWord Index = \" , word_index)\n",
        "\n",
        "# Print the sequences with OOV\n",
        "print(\"\\nTest Sequence = \", test_seq)\n",
        "\n",
        "# Print the padded result\n",
        "padded = pad_sequences(test_seq, maxlen=10)\n",
        "print(\"\\nPadded Test Sequence: \")\n",
        "print(padded)\n",
        "\n"
      ],
      "metadata": {
        "colab": {
          "base_uri": "https://localhost:8080/"
        },
        "id": "u_IFOp0dZdr_",
        "outputId": "7ee27819-6a80-4ec9-810d-884b41b18b9f"
      },
      "execution_count": 7,
      "outputs": [
        {
          "output_type": "stream",
          "name": "stdout",
          "text": [
            "\n",
            "Word Index =  {'<OOV>': 1, 'my': 2, 'dogs': 3, 'i': 4, 'lova': 5, 'you': 6, 'love': 7, 'cats': 8, 'do': 9, 'think': 10, 'is': 11, 'amazing': 12}\n",
            "\n",
            "Test Sequence =  [[4, 1, 7, 2, 1], [2, 1, 1, 2, 1]]\n",
            "\n",
            "Padded Test Sequence: \n",
            "[[0 0 0 0 0 4 1 7 2 1]\n",
            " [0 0 0 0 0 2 1 1 2 1]]\n"
          ]
        }
      ]
    },
    {
      "cell_type": "code",
      "source": [],
      "metadata": {
        "id": "8F_bO6dAZ6VA"
      },
      "execution_count": null,
      "outputs": []
    }
  ]
}